{
 "cells": [
  {
   "cell_type": "code",
   "execution_count": 1,
   "id": "dd7578d3",
   "metadata": {
    "_cell_guid": "b1076dfc-b9ad-4769-8c92-a6c4dae69d19",
    "_uuid": "8f2839f25d086af736a60e9eeb907d3b93b6e0e5",
    "execution": {
     "iopub.execute_input": "2025-04-21T19:43:21.158812Z",
     "iopub.status.busy": "2025-04-21T19:43:21.158149Z",
     "iopub.status.idle": "2025-04-21T19:43:22.566992Z",
     "shell.execute_reply": "2025-04-21T19:43:22.566060Z"
    },
    "papermill": {
     "duration": 1.413956,
     "end_time": "2025-04-21T19:43:22.568359",
     "exception": false,
     "start_time": "2025-04-21T19:43:21.154403",
     "status": "completed"
    },
    "tags": []
   },
   "outputs": [
    {
     "name": "stdout",
     "output_type": "stream",
     "text": [
      "/kaggle/input/three-models/densenet_model.h5\n",
      "/kaggle/input/three-models/mobilenet_model.h5\n",
      "/kaggle/input/three-models/efficientnet_model.h5\n",
      "/kaggle/input/dogs-vs-cats-redux-kernels-edition/sample_submission.csv\n",
      "/kaggle/input/dogs-vs-cats-redux-kernels-edition/train.zip\n",
      "/kaggle/input/dogs-vs-cats-redux-kernels-edition/test.zip\n"
     ]
    }
   ],
   "source": [
    "# This Python 3 environment comes with many helpful analytics libraries installed\n",
    "# It is defined by the kaggle/python Docker image: https://github.com/kaggle/docker-python\n",
    "# For example, here's several helpful packages to load\n",
    "\n",
    "import numpy as np # linear algebra\n",
    "import pandas as pd # data processing, CSV file I/O (e.g. pd.read_csv)\n",
    "\n",
    "# Input data files are available in the read-only \"../input/\" directory\n",
    "# For example, running this (by clicking run or pressing Shift+Enter) will list all files under the input directory\n",
    "\n",
    "import os\n",
    "for dirname, _, filenames in os.walk('/kaggle/input'):\n",
    "    for filename in filenames:\n",
    "        print(os.path.join(dirname, filename))\n",
    "\n",
    "# You can write up to 20GB to the current directory (/kaggle/working/) that gets preserved as output when you create a version using \"Save & Run All\" \n",
    "# You can also write temporary files to /kaggle/temp/, but they won't be saved outside of the current session"
   ]
  },
  {
   "cell_type": "code",
   "execution_count": 2,
   "id": "6c0358b5",
   "metadata": {
    "execution": {
     "iopub.execute_input": "2025-04-21T19:43:22.574093Z",
     "iopub.status.busy": "2025-04-21T19:43:22.573750Z",
     "iopub.status.idle": "2025-04-21T19:43:35.297993Z",
     "shell.execute_reply": "2025-04-21T19:43:35.297198Z"
    },
    "papermill": {
     "duration": 12.728448,
     "end_time": "2025-04-21T19:43:35.299473",
     "exception": false,
     "start_time": "2025-04-21T19:43:22.571025",
     "status": "completed"
    },
    "tags": []
   },
   "outputs": [],
   "source": [
    "import zipfile\n",
    "import os\n",
    "\n",
    "# Unzip train and test data\n",
    "with zipfile.ZipFile(\"/kaggle/input/dogs-vs-cats-redux-kernels-edition/train.zip\", \"r\") as zip_ref:\n",
    "    zip_ref.extractall(\"/kaggle/working/train\")\n",
    "\n",
    "with zipfile.ZipFile(\"/kaggle/input/dogs-vs-cats-redux-kernels-edition/test.zip\", \"r\") as zip_ref:\n",
    "    zip_ref.extractall(\"/kaggle/working/test\")"
   ]
  },
  {
   "cell_type": "code",
   "execution_count": 3,
   "id": "d4b32be4",
   "metadata": {
    "execution": {
     "iopub.execute_input": "2025-04-21T19:43:35.304776Z",
     "iopub.status.busy": "2025-04-21T19:43:35.304554Z",
     "iopub.status.idle": "2025-04-21T19:43:48.900472Z",
     "shell.execute_reply": "2025-04-21T19:43:48.899675Z"
    },
    "papermill": {
     "duration": 13.600018,
     "end_time": "2025-04-21T19:43:48.901860",
     "exception": false,
     "start_time": "2025-04-21T19:43:35.301842",
     "status": "completed"
    },
    "tags": []
   },
   "outputs": [
    {
     "name": "stderr",
     "output_type": "stream",
     "text": [
      "2025-04-21 19:43:37.130243: E external/local_xla/xla/stream_executor/cuda/cuda_fft.cc:477] Unable to register cuFFT factory: Attempting to register factory for plugin cuFFT when one has already been registered\n",
      "WARNING: All log messages before absl::InitializeLog() is called are written to STDERR\n",
      "E0000 00:00:1745264617.343448      19 cuda_dnn.cc:8310] Unable to register cuDNN factory: Attempting to register factory for plugin cuDNN when one has already been registered\n",
      "E0000 00:00:1745264617.402299      19 cuda_blas.cc:1418] Unable to register cuBLAS factory: Attempting to register factory for plugin cuBLAS when one has already been registered\n"
     ]
    }
   ],
   "source": [
    "import os\n",
    "os.environ['TF_CPP_MIN_LOG_LEVEL'] = '2'\n",
    "import zipfile\n",
    "import numpy as np\n",
    "import pandas as pd\n",
    "import matplotlib.pyplot as plt\n",
    "import tensorflow as tf\n",
    "from tensorflow.keras.preprocessing.image import ImageDataGenerator\n",
    "from tensorflow.keras.applications import MobileNetV2\n",
    "from tensorflow.keras.models import Model\n",
    "from tensorflow.keras.layers import Dense, GlobalAveragePooling2D\n",
    "from tensorflow.keras.callbacks import EarlyStopping"
   ]
  },
  {
   "cell_type": "code",
   "execution_count": 4,
   "id": "27226bed",
   "metadata": {
    "execution": {
     "iopub.execute_input": "2025-04-21T19:43:48.907687Z",
     "iopub.status.busy": "2025-04-21T19:43:48.907039Z",
     "iopub.status.idle": "2025-04-21T19:43:49.998475Z",
     "shell.execute_reply": "2025-04-21T19:43:49.997677Z"
    },
    "papermill": {
     "duration": 1.095618,
     "end_time": "2025-04-21T19:43:49.999908",
     "exception": false,
     "start_time": "2025-04-21T19:43:48.904290",
     "status": "completed"
    },
    "tags": []
   },
   "outputs": [],
   "source": [
    "# ================================\n",
    "# STEP 1: Imports and Setup\n",
    "# ================================\n",
    "import os\n",
    "import pandas as pd\n",
    "import numpy as np\n",
    "from sklearn.model_selection import train_test_split\n",
    "from tensorflow.keras.preprocessing.image import ImageDataGenerator\n",
    "from tensorflow.keras.applications import MobileNetV2, DenseNet121, EfficientNetB0\n",
    "from tensorflow.keras.layers import GlobalAveragePooling2D, Dense, Dropout\n",
    "from tensorflow.keras.models import Model\n",
    "from tensorflow.keras.callbacks import EarlyStopping\n",
    "from tensorflow.keras.optimizers import Adam\n",
    "from tensorflow.keras import Input\n",
    "\n",
    "# ================================\n",
    "# STEP 2: Paths and Preprocessing\n",
    "# ================================\n",
    "train_dir = \"/kaggle/working/train/train\"\n",
    "test_dir = \"/kaggle/working/test/test\"\n",
    "IMG_SIZE = 224\n",
    "BATCH_SIZE = 32\n",
    "\n",
    "# Labels from filenames\n",
    "filenames = os.listdir(train_dir)\n",
    "labels = ['dog' if 'dog' in fname else 'cat' for fname in filenames]\n",
    "df = pd.DataFrame({'filename': filenames, 'class': labels})\n",
    "\n",
    "# Split into train and validation sets\n",
    "train_df, val_df = train_test_split(df, test_size=0.1, stratify=df['class'], random_state=42)"
   ]
  },
  {
   "cell_type": "code",
   "execution_count": 5,
   "id": "245940bf",
   "metadata": {
    "execution": {
     "iopub.execute_input": "2025-04-21T19:43:50.006028Z",
     "iopub.status.busy": "2025-04-21T19:43:50.005208Z",
     "iopub.status.idle": "2025-04-21T19:43:50.279819Z",
     "shell.execute_reply": "2025-04-21T19:43:50.279129Z"
    },
    "papermill": {
     "duration": 0.278637,
     "end_time": "2025-04-21T19:43:50.281066",
     "exception": false,
     "start_time": "2025-04-21T19:43:50.002429",
     "status": "completed"
    },
    "tags": []
   },
   "outputs": [
    {
     "name": "stdout",
     "output_type": "stream",
     "text": [
      "Found 22500 validated image filenames belonging to 2 classes.\n",
      "Found 2500 validated image filenames belonging to 2 classes.\n",
      "Found 12500 validated image filenames.\n"
     ]
    }
   ],
   "source": [
    "# ================================\n",
    "# STEP 3: Image Generators\n",
    "# ================================\n",
    "train_gen = ImageDataGenerator(rescale=1./255, horizontal_flip=True, rotation_range=15, zoom_range=0.2)\n",
    "val_gen = ImageDataGenerator(rescale=1./255)\n",
    "test_gen = ImageDataGenerator(rescale=1./255)\n",
    "\n",
    "train_data = train_gen.flow_from_dataframe(train_df, train_dir, x_col='filename', y_col='class',\n",
    "                                           target_size=(IMG_SIZE, IMG_SIZE), class_mode='binary', batch_size=BATCH_SIZE)\n",
    "\n",
    "val_data = val_gen.flow_from_dataframe(val_df, train_dir, x_col='filename', y_col='class',\n",
    "                                       target_size=(IMG_SIZE, IMG_SIZE), class_mode='binary', batch_size=BATCH_SIZE)\n",
    "\n",
    "test_df = pd.DataFrame({'filename': os.listdir(test_dir)})\n",
    "test_data = test_gen.flow_from_dataframe(test_df, test_dir, x_col='filename', class_mode=None,\n",
    "                                         target_size=(IMG_SIZE, IMG_SIZE), batch_size=BATCH_SIZE, shuffle=False)"
   ]
  },
  {
   "cell_type": "code",
   "execution_count": 6,
   "id": "06b30707",
   "metadata": {
    "execution": {
     "iopub.execute_input": "2025-04-21T19:43:50.286796Z",
     "iopub.status.busy": "2025-04-21T19:43:50.286216Z",
     "iopub.status.idle": "2025-04-21T19:43:58.400412Z",
     "shell.execute_reply": "2025-04-21T19:43:58.399668Z"
    },
    "papermill": {
     "duration": 8.118045,
     "end_time": "2025-04-21T19:43:58.401545",
     "exception": false,
     "start_time": "2025-04-21T19:43:50.283500",
     "status": "completed"
    },
    "tags": []
   },
   "outputs": [
    {
     "name": "stderr",
     "output_type": "stream",
     "text": [
      "I0000 00:00:1745264631.651752      19 gpu_device.cc:2022] Created device /job:localhost/replica:0/task:0/device:GPU:0 with 13942 MB memory:  -> device: 0, name: Tesla T4, pci bus id: 0000:00:04.0, compute capability: 7.5\n",
      "I0000 00:00:1745264631.652442      19 gpu_device.cc:2022] Created device /job:localhost/replica:0/task:0/device:GPU:1 with 13942 MB memory:  -> device: 1, name: Tesla T4, pci bus id: 0000:00:05.0, compute capability: 7.5\n"
     ]
    },
    {
     "name": "stdout",
     "output_type": "stream",
     "text": [
      "MobileNetV2 loaded\n",
      "DenseNet121 loaded\n",
      "EfficientNetB0 loaded\n"
     ]
    }
   ],
   "source": [
    "from tensorflow.keras.models import load_model\n",
    "import pandas as pd\n",
    "import numpy as np\n",
    "\n",
    "# STEP 1: Load all 3 models\n",
    "mobilenet_model = load_model('/kaggle/input/three-models/mobilenet_model.h5')\n",
    "print(\"MobileNetV2 loaded\")\n",
    "\n",
    "densenet_model = load_model('/kaggle/input/three-models/densenet_model.h5')\n",
    "print(\"DenseNet121 loaded\")\n",
    "\n",
    "efficientnet_model = load_model('/kaggle/input/three-models/efficientnet_model.h5')\n",
    "print(\"EfficientNetB0 loaded\")\n"
   ]
  },
  {
   "cell_type": "code",
   "execution_count": 7,
   "id": "f41a59ae",
   "metadata": {
    "execution": {
     "iopub.execute_input": "2025-04-21T19:43:58.407250Z",
     "iopub.status.busy": "2025-04-21T19:43:58.407059Z",
     "iopub.status.idle": "2025-04-21T19:46:00.863880Z",
     "shell.execute_reply": "2025-04-21T19:46:00.863059Z"
    },
    "papermill": {
     "duration": 122.460886,
     "end_time": "2025-04-21T19:46:00.865037",
     "exception": false,
     "start_time": "2025-04-21T19:43:58.404151",
     "status": "completed"
    },
    "tags": []
   },
   "outputs": [
    {
     "name": "stderr",
     "output_type": "stream",
     "text": [
      "/usr/local/lib/python3.11/dist-packages/keras/src/trainers/data_adapters/py_dataset_adapter.py:122: UserWarning: Your `PyDataset` class should call `super().__init__(**kwargs)` in its constructor. `**kwargs` can include `workers`, `use_multiprocessing`, `max_queue_size`. Do not pass these arguments to `fit()`, as they will be ignored.\n",
      "  self._warn_if_super_not_called()\n",
      "WARNING: All log messages before absl::InitializeLog() is called are written to STDERR\n",
      "I0000 00:00:1745264640.462600      62 service.cc:148] XLA service 0x7cebdc002150 initialized for platform CUDA (this does not guarantee that XLA will be used). Devices:\n",
      "I0000 00:00:1745264640.463452      62 service.cc:156]   StreamExecutor device (0): Tesla T4, Compute Capability 7.5\n",
      "I0000 00:00:1745264640.463474      62 service.cc:156]   StreamExecutor device (1): Tesla T4, Compute Capability 7.5\n",
      "I0000 00:00:1745264640.945945      62 cuda_dnn.cc:529] Loaded cuDNN version 90300\n"
     ]
    },
    {
     "name": "stdout",
     "output_type": "stream",
     "text": [
      "\u001b[1m  5/391\u001b[0m \u001b[37m━━━━━━━━━━━━━━━━━━━━\u001b[0m \u001b[1m17s\u001b[0m 45ms/step"
     ]
    },
    {
     "name": "stderr",
     "output_type": "stream",
     "text": [
      "I0000 00:00:1745264644.724592      62 device_compiler.h:188] Compiled cluster using XLA!  This line is logged at most once for the lifetime of the process.\n"
     ]
    },
    {
     "name": "stdout",
     "output_type": "stream",
     "text": [
      "\u001b[1m391/391\u001b[0m \u001b[32m━━━━━━━━━━━━━━━━━━━━\u001b[0m\u001b[37m\u001b[0m \u001b[1m34s\u001b[0m 70ms/step\n",
      "\u001b[1m391/391\u001b[0m \u001b[32m━━━━━━━━━━━━━━━━━━━━\u001b[0m\u001b[37m\u001b[0m \u001b[1m53s\u001b[0m 98ms/step\n",
      "\u001b[1m391/391\u001b[0m \u001b[32m━━━━━━━━━━━━━━━━━━━━\u001b[0m\u001b[37m\u001b[0m \u001b[1m35s\u001b[0m 73ms/step\n"
     ]
    }
   ],
   "source": [
    "# STEP 2: Predict on test data using each model\n",
    "mobilenet_preds = mobilenet_model.predict(test_data)\n",
    "densenet_preds = densenet_model.predict(test_data)\n",
    "efficientnet_preds = efficientnet_model.predict(test_data)\n"
   ]
  },
  {
   "cell_type": "code",
   "execution_count": 8,
   "id": "33b4b123",
   "metadata": {
    "execution": {
     "iopub.execute_input": "2025-04-21T19:46:00.953309Z",
     "iopub.status.busy": "2025-04-21T19:46:00.952776Z",
     "iopub.status.idle": "2025-04-21T19:46:00.956895Z",
     "shell.execute_reply": "2025-04-21T19:46:00.956341Z"
    },
    "papermill": {
     "duration": 0.048892,
     "end_time": "2025-04-21T19:46:00.957955",
     "exception": false,
     "start_time": "2025-04-21T19:46:00.909063",
     "status": "completed"
    },
    "tags": []
   },
   "outputs": [],
   "source": [
    "# STEP 3: Ensemble (average the predictions)\n",
    "ensemble_preds = (mobilenet_preds + densenet_preds + efficientnet_preds) / 3\n",
    "ensemble_preds_labels = (ensemble_preds > 0.5).astype(int).ravel()\n"
   ]
  },
  {
   "cell_type": "code",
   "execution_count": 9,
   "id": "9b3fc985",
   "metadata": {
    "execution": {
     "iopub.execute_input": "2025-04-21T19:46:01.088696Z",
     "iopub.status.busy": "2025-04-21T19:46:01.088452Z",
     "iopub.status.idle": "2025-04-21T19:46:01.117073Z",
     "shell.execute_reply": "2025-04-21T19:46:01.116502Z"
    },
    "papermill": {
     "duration": 0.072952,
     "end_time": "2025-04-21T19:46:01.118053",
     "exception": false,
     "start_time": "2025-04-21T19:46:01.045101",
     "status": "completed"
    },
    "tags": []
   },
   "outputs": [
    {
     "name": "stdout",
     "output_type": "stream",
     "text": [
      "📄 Ensemble submission saved as 'submission.csv'\n"
     ]
    }
   ],
   "source": [
    "# STEP 4: Format submission\n",
    "test_df['id'] = test_df['filename'].apply(lambda x: int(x.split('.')[0]))\n",
    "\n",
    "submission = pd.DataFrame({\n",
    "    'id': test_df['id'],\n",
    "    'label': ensemble_preds_labels\n",
    "}).sort_values('id')\n",
    "\n",
    "submission.to_csv('submission.csv', index=False)\n",
    "print(\"📄 Ensemble submission saved as 'submission.csv'\")\n"
   ]
  },
  {
   "cell_type": "code",
   "execution_count": null,
   "id": "cad1e327",
   "metadata": {
    "papermill": {
     "duration": 0.04267,
     "end_time": "2025-04-21T19:46:01.203575",
     "exception": false,
     "start_time": "2025-04-21T19:46:01.160905",
     "status": "completed"
    },
    "tags": []
   },
   "outputs": [],
   "source": []
  }
 ],
 "metadata": {
  "kaggle": {
   "accelerator": "nvidiaTeslaT4",
   "dataSources": [
    {
     "databundleVersionId": 38425,
     "sourceId": 5441,
     "sourceType": "competition"
    },
    {
     "datasetId": 7213604,
     "sourceId": 11505208,
     "sourceType": "datasetVersion"
    }
   ],
   "dockerImageVersionId": 31011,
   "isGpuEnabled": true,
   "isInternetEnabled": true,
   "language": "python",
   "sourceType": "notebook"
  },
  "kernelspec": {
   "display_name": "Python 3",
   "language": "python",
   "name": "python3"
  },
  "language_info": {
   "codemirror_mode": {
    "name": "ipython",
    "version": 3
   },
   "file_extension": ".py",
   "mimetype": "text/x-python",
   "name": "python",
   "nbconvert_exporter": "python",
   "pygments_lexer": "ipython3",
   "version": "3.11.11"
  },
  "papermill": {
   "default_parameters": {},
   "duration": 167.333501,
   "end_time": "2025-04-21T19:46:04.387226",
   "environment_variables": {},
   "exception": null,
   "input_path": "__notebook__.ipynb",
   "output_path": "__notebook__.ipynb",
   "parameters": {},
   "start_time": "2025-04-21T19:43:17.053725",
   "version": "2.6.0"
  }
 },
 "nbformat": 4,
 "nbformat_minor": 5
}
