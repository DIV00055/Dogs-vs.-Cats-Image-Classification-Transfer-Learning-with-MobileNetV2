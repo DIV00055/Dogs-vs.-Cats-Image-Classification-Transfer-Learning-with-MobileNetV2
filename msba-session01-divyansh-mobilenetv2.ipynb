{
 "cells": [
  {
   "cell_type": "code",
   "execution_count": 1,
   "id": "a83241b5",
   "metadata": {
    "_cell_guid": "b1076dfc-b9ad-4769-8c92-a6c4dae69d19",
    "_uuid": "8f2839f25d086af736a60e9eeb907d3b93b6e0e5",
    "execution": {
     "iopub.execute_input": "2025-04-19T18:28:13.930573Z",
     "iopub.status.busy": "2025-04-19T18:28:13.930320Z",
     "iopub.status.idle": "2025-04-19T18:28:15.387179Z",
     "shell.execute_reply": "2025-04-19T18:28:15.386491Z"
    },
    "papermill": {
     "duration": 1.46171,
     "end_time": "2025-04-19T18:28:15.388479",
     "exception": false,
     "start_time": "2025-04-19T18:28:13.926769",
     "status": "completed"
    },
    "tags": []
   },
   "outputs": [
    {
     "name": "stdout",
     "output_type": "stream",
     "text": [
      "/kaggle/input/dogs-vs-cats-redux-kernels-edition/sample_submission.csv\n",
      "/kaggle/input/dogs-vs-cats-redux-kernels-edition/train.zip\n",
      "/kaggle/input/dogs-vs-cats-redux-kernels-edition/test.zip\n"
     ]
    }
   ],
   "source": [
    "# This Python 3 environment comes with many helpful analytics libraries installed\n",
    "# It is defined by the kaggle/python Docker image: https://github.com/kaggle/docker-python\n",
    "# For example, here's several helpful packages to load\n",
    "\n",
    "import numpy as np # linear algebra\n",
    "import pandas as pd # data processing, CSV file I/O (e.g. pd.read_csv)\n",
    "\n",
    "# Input data files are available in the read-only \"../input/\" directory\n",
    "# For example, running this (by clicking run or pressing Shift+Enter) will list all files under the input directory\n",
    "\n",
    "import os\n",
    "for dirname, _, filenames in os.walk('/kaggle/input'):\n",
    "    for filename in filenames:\n",
    "        print(os.path.join(dirname, filename))\n",
    "\n",
    "# You can write up to 20GB to the current directory (/kaggle/working/) that gets preserved as output when you create a version using \"Save & Run All\" \n",
    "# You can also write temporary files to /kaggle/temp/, but they won't be saved outside of the current session"
   ]
  },
  {
   "cell_type": "code",
   "execution_count": 2,
   "id": "5fe5181d",
   "metadata": {
    "execution": {
     "iopub.execute_input": "2025-04-19T18:28:15.394906Z",
     "iopub.status.busy": "2025-04-19T18:28:15.394611Z",
     "iopub.status.idle": "2025-04-19T18:28:29.310035Z",
     "shell.execute_reply": "2025-04-19T18:28:29.309465Z"
    },
    "papermill": {
     "duration": 13.92013,
     "end_time": "2025-04-19T18:28:29.311484",
     "exception": false,
     "start_time": "2025-04-19T18:28:15.391354",
     "status": "completed"
    },
    "tags": []
   },
   "outputs": [],
   "source": [
    "import zipfile\n",
    "import os\n",
    "\n",
    "# Unzip train and test data\n",
    "with zipfile.ZipFile(\"/kaggle/input/dogs-vs-cats-redux-kernels-edition/train.zip\", \"r\") as zip_ref:\n",
    "    zip_ref.extractall(\"/kaggle/working/train\")\n",
    "\n",
    "with zipfile.ZipFile(\"/kaggle/input/dogs-vs-cats-redux-kernels-edition/test.zip\", \"r\") as zip_ref:\n",
    "    zip_ref.extractall(\"/kaggle/working/test\")\n"
   ]
  },
  {
   "cell_type": "code",
   "execution_count": 3,
   "id": "d1071882",
   "metadata": {
    "execution": {
     "iopub.execute_input": "2025-04-19T18:28:29.317875Z",
     "iopub.status.busy": "2025-04-19T18:28:29.317164Z",
     "iopub.status.idle": "2025-04-19T18:28:41.659521Z",
     "shell.execute_reply": "2025-04-19T18:28:41.658941Z"
    },
    "papermill": {
     "duration": 12.346717,
     "end_time": "2025-04-19T18:28:41.660800",
     "exception": false,
     "start_time": "2025-04-19T18:28:29.314083",
     "status": "completed"
    },
    "tags": []
   },
   "outputs": [
    {
     "name": "stderr",
     "output_type": "stream",
     "text": [
      "2025-04-19 18:28:30.687543: E external/local_xla/xla/stream_executor/cuda/cuda_fft.cc:477] Unable to register cuFFT factory: Attempting to register factory for plugin cuFFT when one has already been registered\n",
      "WARNING: All log messages before absl::InitializeLog() is called are written to STDERR\n",
      "E0000 00:00:1745087310.867775      19 cuda_dnn.cc:8310] Unable to register cuDNN factory: Attempting to register factory for plugin cuDNN when one has already been registered\n",
      "E0000 00:00:1745087310.923517      19 cuda_blas.cc:1418] Unable to register cuBLAS factory: Attempting to register factory for plugin cuBLAS when one has already been registered\n"
     ]
    }
   ],
   "source": [
    "import os\n",
    "os.environ['TF_CPP_MIN_LOG_LEVEL'] = '2'\n",
    "import zipfile\n",
    "import numpy as np\n",
    "import pandas as pd\n",
    "import matplotlib.pyplot as plt\n",
    "import tensorflow as tf\n",
    "from tensorflow.keras.preprocessing.image import ImageDataGenerator\n",
    "from tensorflow.keras.applications import MobileNetV2\n",
    "from tensorflow.keras.models import Model\n",
    "from tensorflow.keras.layers import Dense, GlobalAveragePooling2D\n",
    "from tensorflow.keras.callbacks import EarlyStopping"
   ]
  },
  {
   "cell_type": "code",
   "execution_count": 4,
   "id": "7aebe6ba",
   "metadata": {
    "execution": {
     "iopub.execute_input": "2025-04-19T18:28:41.666574Z",
     "iopub.status.busy": "2025-04-19T18:28:41.666124Z",
     "iopub.status.idle": "2025-04-19T18:28:43.104955Z",
     "shell.execute_reply": "2025-04-19T18:28:43.104171Z"
    },
    "papermill": {
     "duration": 1.442747,
     "end_time": "2025-04-19T18:28:43.106063",
     "exception": false,
     "start_time": "2025-04-19T18:28:41.663316",
     "status": "completed"
    },
    "tags": []
   },
   "outputs": [
    {
     "name": "stdout",
     "output_type": "stream",
     "text": [
      "Found 22500 validated image filenames belonging to 2 classes.\n",
      "Found 2500 validated image filenames belonging to 2 classes.\n",
      "Found 12500 validated image filenames.\n"
     ]
    }
   ],
   "source": [
    "import os\n",
    "import pandas as pd\n",
    "import numpy as np\n",
    "from sklearn.model_selection import train_test_split\n",
    "from tensorflow.keras.preprocessing.image import ImageDataGenerator\n",
    "\n",
    "# Correct directory paths after unzipping\n",
    "train_dir = \"/kaggle/working/train/train\"\n",
    "test_dir = \"/kaggle/working/test/test\"\n",
    "\n",
    "# Generate labels from filenames\n",
    "filenames = os.listdir(train_dir)\n",
    "labels = ['dog' if 'dog' in fname else 'cat' for fname in filenames]\n",
    "df = pd.DataFrame({'filename': filenames, 'class': labels})\n",
    "\n",
    "# Train-validation split (stratified to balance dog/cat distribution)\n",
    "train_df, val_df = train_test_split(df, test_size=0.1, stratify=df['class'], random_state=42)\n",
    "\n",
    "# Image settings\n",
    "IMG_SIZE = 224\n",
    "BATCH_SIZE = 32\n",
    "\n",
    "# ImageDataGenerators\n",
    "train_gen = ImageDataGenerator(\n",
    "    rescale=1./255,\n",
    "    horizontal_flip=True,\n",
    "    rotation_range=15,\n",
    "    zoom_range=0.2\n",
    ")\n",
    "\n",
    "val_gen = ImageDataGenerator(rescale=1./255)\n",
    "test_gen = ImageDataGenerator(rescale=1./255)\n",
    "\n",
    "# Flow training data\n",
    "train_data = train_gen.flow_from_dataframe(\n",
    "    dataframe=train_df,\n",
    "    directory=train_dir,\n",
    "    x_col='filename',\n",
    "    y_col='class',\n",
    "    target_size=(IMG_SIZE, IMG_SIZE),\n",
    "    class_mode='binary',\n",
    "    batch_size=BATCH_SIZE\n",
    ")\n",
    "\n",
    "# Flow validation data\n",
    "val_data = val_gen.flow_from_dataframe(\n",
    "    dataframe=val_df,\n",
    "    directory=train_dir,\n",
    "    x_col='filename',\n",
    "    y_col='class',\n",
    "    target_size=(IMG_SIZE, IMG_SIZE),\n",
    "    class_mode='binary',\n",
    "    batch_size=BATCH_SIZE\n",
    ")\n",
    "\n",
    "# Prepare test data for prediction\n",
    "test_filenames = os.listdir(test_dir)\n",
    "test_df = pd.DataFrame({'filename': test_filenames})\n",
    "\n",
    "test_data = test_gen.flow_from_dataframe(\n",
    "    dataframe=test_df,\n",
    "    directory=test_dir,\n",
    "    x_col='filename',\n",
    "    class_mode=None,\n",
    "    target_size=(IMG_SIZE, IMG_SIZE),\n",
    "    batch_size=BATCH_SIZE,\n",
    "    shuffle=False  # Keep order for submission\n",
    ")\n"
   ]
  },
  {
   "cell_type": "code",
   "execution_count": 5,
   "id": "583dab44",
   "metadata": {
    "execution": {
     "iopub.execute_input": "2025-04-19T18:28:43.112205Z",
     "iopub.status.busy": "2025-04-19T18:28:43.111791Z",
     "iopub.status.idle": "2025-04-19T18:28:43.128208Z",
     "shell.execute_reply": "2025-04-19T18:28:43.127428Z"
    },
    "papermill": {
     "duration": 0.020606,
     "end_time": "2025-04-19T18:28:43.129354",
     "exception": false,
     "start_time": "2025-04-19T18:28:43.108748",
     "status": "completed"
    },
    "tags": []
   },
   "outputs": [
    {
     "name": "stdout",
     "output_type": "stream",
     "text": [
      "Number of training images found: 25000\n",
      "First 5 files: ['cat.3405.jpg', 'dog.10176.jpg', 'cat.4818.jpg', 'cat.28.jpg', 'dog.4446.jpg']\n"
     ]
    }
   ],
   "source": [
    "filenames = os.listdir(train_dir)\n",
    "print(f\"Number of training images found: {len(filenames)}\")\n",
    "print(f\"First 5 files: {filenames[:5]}\")\n"
   ]
  },
  {
   "cell_type": "code",
   "execution_count": 6,
   "id": "9a0e4cde",
   "metadata": {
    "execution": {
     "iopub.execute_input": "2025-04-19T18:28:43.136189Z",
     "iopub.status.busy": "2025-04-19T18:28:43.135816Z",
     "iopub.status.idle": "2025-04-19T18:28:43.139229Z",
     "shell.execute_reply": "2025-04-19T18:28:43.138528Z"
    },
    "papermill": {
     "duration": 0.008429,
     "end_time": "2025-04-19T18:28:43.140204",
     "exception": false,
     "start_time": "2025-04-19T18:28:43.131775",
     "status": "completed"
    },
    "tags": []
   },
   "outputs": [],
   "source": [
    "#from tensorflow.keras.applications import MobileNetV2\n",
    "#from tensorflow.keras.models import Model\n",
    "#from tensorflow.keras.layers import Dense, GlobalAveragePooling2D, Dropout\n",
    "#from tensorflow.keras.callbacks import EarlyStopping, ModelCheckpoint\n",
    "\n",
    "# Load base model without top layers\n",
    "#base_model = MobileNetV2(weights='imagenet', include_top=False, input_shape=(224, 224, 3))\n",
    "#base_model.trainable = False  # Freeze base model\n",
    "\n",
    "# Add custom layers on top\n",
    "#x = base_model.output\n",
    "#x = GlobalAveragePooling2D()(x)\n",
    "#x = Dropout(0.3)(x)\n",
    "#x = Dense(128, activation='relu')(x)\n",
    "#output = Dense(1, activation='sigmoid')(x)  # Binary classification (dog vs cat)\n",
    "\n",
    "#model = Model(inputs=base_model.input, outputs=output)\n",
    "#model.compile(optimizer='adam', loss='binary_crossentropy', metrics=['accuracy'])\n",
    "\n",
    "#model.summary()\n"
   ]
  },
  {
   "cell_type": "code",
   "execution_count": 7,
   "id": "6b24b189",
   "metadata": {
    "execution": {
     "iopub.execute_input": "2025-04-19T18:28:43.145466Z",
     "iopub.status.busy": "2025-04-19T18:28:43.145250Z",
     "iopub.status.idle": "2025-04-19T18:28:43.148379Z",
     "shell.execute_reply": "2025-04-19T18:28:43.147837Z"
    },
    "papermill": {
     "duration": 0.006782,
     "end_time": "2025-04-19T18:28:43.149307",
     "exception": false,
     "start_time": "2025-04-19T18:28:43.142525",
     "status": "completed"
    },
    "tags": []
   },
   "outputs": [],
   "source": [
    "#from tensorflow.keras.callbacks import EarlyStopping, ModelCheckpoint\n",
    "\n",
    "#early_stop = EarlyStopping(monitor='val_loss', patience=3, restore_best_weights=True)\n",
    "#checkpoint = ModelCheckpoint('best_model.keras', monitor='val_loss', save_best_only=True)\n",
    "\n",
    "#history = model.fit(\n",
    "    #train_data,\n",
    "    #validation_data=val_data,\n",
    "    #epochs=5,\n",
    "    #callbacks=[early_stop, checkpoint]\n",
    "#)\n"
   ]
  },
  {
   "cell_type": "code",
   "execution_count": 8,
   "id": "54cbde38",
   "metadata": {
    "execution": {
     "iopub.execute_input": "2025-04-19T18:28:43.154466Z",
     "iopub.status.busy": "2025-04-19T18:28:43.154214Z",
     "iopub.status.idle": "2025-04-19T18:28:43.157297Z",
     "shell.execute_reply": "2025-04-19T18:28:43.156729Z"
    },
    "papermill": {
     "duration": 0.00684,
     "end_time": "2025-04-19T18:28:43.158379",
     "exception": false,
     "start_time": "2025-04-19T18:28:43.151539",
     "status": "completed"
    },
    "tags": []
   },
   "outputs": [],
   "source": [
    "# Step 1: Predict on test set\n",
    "#test_preds = model.predict(test_data)\n",
    "#test_preds_labels = (test_preds > 0.5).astype(int).ravel()\n",
    "\n",
    "# Step 2: Format the ID column correctly from filenames\n",
    "#test_df['id'] = test_df['filename'].apply(lambda x: int(x.split('.')[0]))\n",
    "\n",
    "# Step 3: Create submission dataframe\n",
    "#submission = pd.DataFrame({\n",
    "#    'id': test_df['id'],\n",
    "#   'label': test_preds_labels\n",
    "#}).sort_values('id')  # Sort to match Kaggle expected order\n",
    "\n",
    "# Step 4: Save to CSV\n",
    "#submission.to_csv('/kaggle/working/submission.csv', index=False)\n"
   ]
  },
  {
   "cell_type": "code",
   "execution_count": 9,
   "id": "324f0341",
   "metadata": {
    "execution": {
     "iopub.execute_input": "2025-04-19T18:28:43.163944Z",
     "iopub.status.busy": "2025-04-19T18:28:43.163728Z",
     "iopub.status.idle": "2025-04-19T18:49:10.213194Z",
     "shell.execute_reply": "2025-04-19T18:49:10.212595Z"
    },
    "papermill": {
     "duration": 1227.05392,
     "end_time": "2025-04-19T18:49:10.214588",
     "exception": false,
     "start_time": "2025-04-19T18:28:43.160668",
     "status": "completed"
    },
    "tags": []
   },
   "outputs": [
    {
     "name": "stderr",
     "output_type": "stream",
     "text": [
      "I0000 00:00:1745087324.238768      19 gpu_device.cc:2022] Created device /job:localhost/replica:0/task:0/device:GPU:0 with 15513 MB memory:  -> device: 0, name: Tesla P100-PCIE-16GB, pci bus id: 0000:00:04.0, compute capability: 6.0\n"
     ]
    },
    {
     "name": "stdout",
     "output_type": "stream",
     "text": [
      "Downloading data from https://storage.googleapis.com/tensorflow/keras-applications/mobilenet_v2/mobilenet_v2_weights_tf_dim_ordering_tf_kernels_1.0_224_no_top.h5\n",
      "\u001b[1m9406464/9406464\u001b[0m \u001b[32m━━━━━━━━━━━━━━━━━━━━\u001b[0m\u001b[37m\u001b[0m \u001b[1m0s\u001b[0m 0us/step\n",
      "Found 22500 validated image filenames belonging to 2 classes.\n",
      "Found 2500 validated image filenames belonging to 2 classes.\n",
      "Epoch 1/5\n"
     ]
    },
    {
     "name": "stderr",
     "output_type": "stream",
     "text": [
      "/usr/local/lib/python3.11/dist-packages/keras/src/trainers/data_adapters/py_dataset_adapter.py:122: UserWarning: Your `PyDataset` class should call `super().__init__(**kwargs)` in its constructor. `**kwargs` can include `workers`, `use_multiprocessing`, `max_queue_size`. Do not pass these arguments to `fit()`, as they will be ignored.\n",
      "  self._warn_if_super_not_called()\n",
      "WARNING: All log messages before absl::InitializeLog() is called are written to STDERR\n",
      "I0000 00:00:1745087344.356927      57 service.cc:148] XLA service 0x78ec7c152b10 initialized for platform CUDA (this does not guarantee that XLA will be used). Devices:\n",
      "I0000 00:00:1745087344.357890      57 service.cc:156]   StreamExecutor device (0): Tesla P100-PCIE-16GB, Compute Capability 6.0\n",
      "I0000 00:00:1745087345.860517      57 cuda_dnn.cc:529] Loaded cuDNN version 90300\n",
      "E0000 00:00:1745087348.924873      57 gpu_timer.cc:82] Delay kernel timed out: measured time has sub-optimal accuracy. There may be a missing warmup execution, please investigate in Nsight Systems.\n",
      "E0000 00:00:1745087349.122431      57 gpu_timer.cc:82] Delay kernel timed out: measured time has sub-optimal accuracy. There may be a missing warmup execution, please investigate in Nsight Systems.\n"
     ]
    },
    {
     "name": "stdout",
     "output_type": "stream",
     "text": [
      "\u001b[1m  1/704\u001b[0m \u001b[37m━━━━━━━━━━━━━━━━━━━━\u001b[0m \u001b[1m5:04:10\u001b[0m 26s/step - accuracy: 0.5312 - loss: 0.7663"
     ]
    },
    {
     "name": "stderr",
     "output_type": "stream",
     "text": [
      "I0000 00:00:1745087353.422248      57 device_compiler.h:188] Compiled cluster using XLA!  This line is logged at most once for the lifetime of the process.\n"
     ]
    },
    {
     "name": "stdout",
     "output_type": "stream",
     "text": [
      "\u001b[1m704/704\u001b[0m \u001b[32m━━━━━━━━━━━━━━━━━━━━\u001b[0m\u001b[37m\u001b[0m \u001b[1m274s\u001b[0m 352ms/step - accuracy: 0.9225 - loss: 0.1784 - val_accuracy: 0.9832 - val_loss: 0.0561 - learning_rate: 1.0000e-04\n",
      "Epoch 2/5\n",
      "\u001b[1m704/704\u001b[0m \u001b[32m━━━━━━━━━━━━━━━━━━━━\u001b[0m\u001b[37m\u001b[0m \u001b[1m236s\u001b[0m 332ms/step - accuracy: 0.9685 - loss: 0.0781 - val_accuracy: 0.9768 - val_loss: 0.0802 - learning_rate: 1.0000e-04\n",
      "Epoch 3/5\n",
      "\u001b[1m703/704\u001b[0m \u001b[32m━━━━━━━━━━━━━━━━━━━\u001b[0m\u001b[37m━\u001b[0m \u001b[1m0s\u001b[0m 327ms/step - accuracy: 0.9755 - loss: 0.0613\n",
      "Epoch 3: ReduceLROnPlateau reducing learning rate to 1.9999999494757503e-05.\n",
      "\u001b[1m704/704\u001b[0m \u001b[32m━━━━━━━━━━━━━━━━━━━━\u001b[0m\u001b[37m\u001b[0m \u001b[1m236s\u001b[0m 332ms/step - accuracy: 0.9755 - loss: 0.0613 - val_accuracy: 0.9844 - val_loss: 0.0656 - learning_rate: 1.0000e-04\n",
      "Epoch 4/5\n",
      "\u001b[1m704/704\u001b[0m \u001b[32m━━━━━━━━━━━━━━━━━━━━\u001b[0m\u001b[37m\u001b[0m \u001b[1m239s\u001b[0m 336ms/step - accuracy: 0.9815 - loss: 0.0527 - val_accuracy: 0.9840 - val_loss: 0.0470 - learning_rate: 2.0000e-05\n",
      "Epoch 5/5\n",
      "\u001b[1m704/704\u001b[0m \u001b[32m━━━━━━━━━━━━━━━━━━━━\u001b[0m\u001b[37m\u001b[0m \u001b[1m238s\u001b[0m 334ms/step - accuracy: 0.9822 - loss: 0.0433 - val_accuracy: 0.9840 - val_loss: 0.0408 - learning_rate: 2.0000e-05\n"
     ]
    }
   ],
   "source": [
    "from tensorflow.keras.applications import MobileNetV2\n",
    "from tensorflow.keras.models import Model\n",
    "from tensorflow.keras.layers import Dense, GlobalAveragePooling2D, Dropout\n",
    "from tensorflow.keras.optimizers import Adam\n",
    "from tensorflow.keras.callbacks import EarlyStopping, ModelCheckpoint, ReduceLROnPlateau\n",
    "from tensorflow.keras.preprocessing.image import ImageDataGenerator\n",
    "\n",
    "# Unfreeze last 40 layers for fine-tuning\n",
    "base_model = MobileNetV2(weights='imagenet', include_top=False, input_shape=(224, 224, 3))\n",
    "for layer in base_model.layers[:-40]:\n",
    "    layer.trainable = False\n",
    "for layer in base_model.layers[-40:]:\n",
    "    layer.trainable = True\n",
    "\n",
    "# Build model\n",
    "x = base_model.output\n",
    "x = GlobalAveragePooling2D()(x)\n",
    "x = Dropout(0.5)(x)  # Increased dropout\n",
    "x = Dense(128, activation='relu')(x)\n",
    "output = Dense(1, activation='sigmoid')(x)\n",
    "\n",
    "model = Model(inputs=base_model.input, outputs=output)\n",
    "model.compile(optimizer=Adam(learning_rate=1e-4), loss='binary_crossentropy', metrics=['accuracy'])\n",
    "\n",
    "# Callbacks\n",
    "early_stop = EarlyStopping(monitor='val_loss', patience=5, restore_best_weights=True)\n",
    "reduce_lr = ReduceLROnPlateau(monitor='val_loss', factor=0.2, patience=2, verbose=1)\n",
    "checkpoint = ModelCheckpoint('best_model.keras', monitor='val_loss', save_best_only=True)\n",
    "\n",
    "# Stronger augmentation\n",
    "train_gen = ImageDataGenerator(\n",
    "    rescale=1./255,\n",
    "    rotation_range=30,\n",
    "    width_shift_range=0.2,\n",
    "    height_shift_range=0.2,\n",
    "    shear_range=0.2,\n",
    "    zoom_range=0.3,\n",
    "    horizontal_flip=True,\n",
    "    fill_mode='nearest'\n",
    ")\n",
    "\n",
    "val_gen = ImageDataGenerator(rescale=1./255)\n",
    "\n",
    "# Rebuild data generators (if needed)\n",
    "train_data = train_gen.flow_from_dataframe(\n",
    "    train_df, train_dir, x_col='filename', y_col='class',\n",
    "    target_size=(224, 224), class_mode='binary', batch_size=32\n",
    ")\n",
    "\n",
    "val_data = val_gen.flow_from_dataframe(\n",
    "    val_df, train_dir, x_col='filename', y_col='class',\n",
    "    target_size=(224, 224), class_mode='binary', batch_size=32\n",
    ")\n",
    "\n",
    "# Train model\n",
    "history = model.fit(\n",
    "    train_data,\n",
    "    validation_data=val_data,\n",
    "    epochs=5,\n",
    "    callbacks=[early_stop, reduce_lr, checkpoint]\n",
    ")\n"
   ]
  },
  {
   "cell_type": "code",
   "execution_count": 10,
   "id": "18862981",
   "metadata": {
    "execution": {
     "iopub.execute_input": "2025-04-19T18:49:10.556094Z",
     "iopub.status.busy": "2025-04-19T18:49:10.555815Z",
     "iopub.status.idle": "2025-04-19T18:49:36.989819Z",
     "shell.execute_reply": "2025-04-19T18:49:36.988937Z"
    },
    "papermill": {
     "duration": 26.580836,
     "end_time": "2025-04-19T18:49:36.991259",
     "exception": false,
     "start_time": "2025-04-19T18:49:10.410423",
     "status": "completed"
    },
    "tags": []
   },
   "outputs": [
    {
     "name": "stdout",
     "output_type": "stream",
     "text": [
      "\u001b[1m391/391\u001b[0m \u001b[32m━━━━━━━━━━━━━━━━━━━━\u001b[0m\u001b[37m\u001b[0m \u001b[1m26s\u001b[0m 58ms/step\n"
     ]
    }
   ],
   "source": [
    "# Predict on test set\n",
    "test_preds = model.predict(test_data)\n",
    "test_preds_labels = (test_preds > 0.5).astype(int).ravel()\n",
    "\n",
    "# Create submission\n",
    "test_df['id'] = test_df['filename'].apply(lambda x: int(x.split('.')[0]))\n",
    "submission = pd.DataFrame({'id': test_df['id'], 'label': test_preds_labels})\n",
    "submission = submission.sort_values('id')\n",
    "submission.to_csv('/kaggle/working/submission.csv', index=False)\n"
   ]
  },
  {
   "cell_type": "code",
   "execution_count": null,
   "id": "624c6aba",
   "metadata": {
    "papermill": {
     "duration": 0.15116,
     "end_time": "2025-04-19T18:49:37.302908",
     "exception": false,
     "start_time": "2025-04-19T18:49:37.151748",
     "status": "completed"
    },
    "tags": []
   },
   "outputs": [],
   "source": []
  }
 ],
 "metadata": {
  "kaggle": {
   "accelerator": "gpu",
   "dataSources": [
    {
     "databundleVersionId": 38425,
     "sourceId": 5441,
     "sourceType": "competition"
    }
   ],
   "dockerImageVersionId": 31011,
   "isGpuEnabled": true,
   "isInternetEnabled": true,
   "language": "python",
   "sourceType": "notebook"
  },
  "kernelspec": {
   "display_name": "Python 3",
   "language": "python",
   "name": "python3"
  },
  "language_info": {
   "codemirror_mode": {
    "name": "ipython",
    "version": 3
   },
   "file_extension": ".py",
   "mimetype": "text/x-python",
   "name": "python",
   "nbconvert_exporter": "python",
   "pygments_lexer": "ipython3",
   "version": "3.11.11"
  },
  "papermill": {
   "default_parameters": {},
   "duration": 1291.747477,
   "end_time": "2025-04-19T18:49:41.586633",
   "environment_variables": {},
   "exception": null,
   "input_path": "__notebook__.ipynb",
   "output_path": "__notebook__.ipynb",
   "parameters": {},
   "start_time": "2025-04-19T18:28:09.839156",
   "version": "2.6.0"
  }
 },
 "nbformat": 4,
 "nbformat_minor": 5
}
